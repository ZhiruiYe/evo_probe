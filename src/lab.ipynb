{
 "cells": [
  {
   "cell_type": "markdown",
   "id": "01c0d15c",
   "metadata": {},
   "source": [
    "q2"
   ]
  },
  {
   "cell_type": "code",
   "execution_count": null,
   "id": "07e4eb1f",
   "metadata": {},
   "outputs": [
    {
     "name": "stdout",
     "output_type": "stream",
     "text": [
      "(3, 32)\n"
     ]
    }
   ],
   "source": [
    "def dot_product(tA, tB):\n",
    "    length = len(tA)\n",
    "    dot_sum = sum(a * b for a, b in zip(tA, tB))\n",
    "    return (length, dot_sum)\n",
    "\n",
    "\n",
    "# 测试\n",
    "tA = (1, 2, 3)\n",
    "tB = (4, 5, 6)\n",
    "print(dot_product(tA, tB))  # 输出 (3, 32)\n"
   ]
  },
  {
   "cell_type": "markdown",
   "id": "b2dd499e",
   "metadata": {},
   "source": [
    "q3"
   ]
  },
  {
   "cell_type": "code",
   "execution_count": null,
   "id": "f69e6885",
   "metadata": {},
   "outputs": [
    {
     "name": "stdout",
     "output_type": "stream",
     "text": [
      "[[2, 4], [1, 5]]\n",
      "[]\n"
     ]
    }
   ],
   "source": [
    "def target_sum_pair(nums, target):\n",
    "    pairs = []\n",
    "    seen = set()\n",
    "    \n",
    "    for num in nums:\n",
    "        complement = target - num\n",
    "        if complement in seen:\n",
    "            pairs.append([complement, num])\n",
    "        seen.add(num)\n",
    "        \n",
    "    return pairs\n",
    "\n",
    "\n",
    "# 测试\n",
    "print(target_sum_pair([1, 2, 3, 4, 5], 6))  # [[1, 5], [2, 4]]\n",
    "print(target_sum_pair([1, 2, 6, 5, 3], 10)) # []\n"
   ]
  },
  {
   "cell_type": "code",
   "execution_count": 3,
   "id": "22c3da5e",
   "metadata": {},
   "outputs": [
    {
     "name": "stdout",
     "output_type": "stream",
     "text": [
      "[5, 2, [3, 4]]\n",
      "[5, 2, [3, 4]]\n",
      "[1, 2, [3, 4]]\n",
      "[1, 2, [3, 4]]\n"
     ]
    }
   ],
   "source": [
    "import copy\n",
    "\n",
    "a = [1, 2, [3, 4]]\n",
    "b=a\n",
    "c = copy.copy(a)\n",
    "d=copy.deepcopy(a)\n",
    "\n",
    "a[0]=5\n",
    "print(a)\n",
    "print(b)\n",
    "print(c)\n",
    "print(d)\n",
    "\n",
    "\n",
    "\n",
    "\n",
    "\n"
   ]
  },
  {
   "cell_type": "code",
   "execution_count": 4,
   "id": "9d936ba9",
   "metadata": {},
   "outputs": [
    {
     "name": "stdout",
     "output_type": "stream",
     "text": [
      "[5, 2, [3, 0]]\n",
      "[5, 2, [3, 0]]\n",
      "[1, 2, [3, 0]]\n",
      "[1, 2, [3, 4]]\n"
     ]
    }
   ],
   "source": [
    "a[2][1]=0\n",
    "print(a)\n",
    "print(b)\n",
    "print(c)\n",
    "print(d)\n",
    "\n",
    "\n"
   ]
  }
 ],
 "metadata": {
  "kernelspec": {
   "display_name": "asr",
   "language": "python",
   "name": "python3"
  },
  "language_info": {
   "codemirror_mode": {
    "name": "ipython",
    "version": 3
   },
   "file_extension": ".py",
   "mimetype": "text/x-python",
   "name": "python",
   "nbconvert_exporter": "python",
   "pygments_lexer": "ipython3",
   "version": "3.9.23"
  }
 },
 "nbformat": 4,
 "nbformat_minor": 5
}
